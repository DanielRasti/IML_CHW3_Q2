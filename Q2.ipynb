{
 "cells": [
  {
   "cell_type": "markdown",
   "metadata": {},
   "source": [
    "<h1 align=\"center\">Introduction to Machine Learning - Course Code: 25737</h1>\n",
    "<h4 align=\"center\">Instructor: Dr. Amiri</h4>\n",
    "<h4 align=\"center\">Sharif University of Technology, Spring 2024</h4>\n",
    "<h4 align=\"center\">Computer Assignment 3</h4>\n",
    "<h4 align=\"center\">\n",
    "\n",
    "Question 2\n",
    "\n",
    "</h4>"
   ]
  },
  {
   "cell_type": "markdown",
   "metadata": {},
   "source": [
    "# Personal Data"
   ]
  },
  {
   "cell_type": "code",
   "execution_count": 1,
   "metadata": {},
   "outputs": [],
   "source": [
    "# Set your student number\n",
    "student_number = 99101581\n",
    "Name = 'Daniyal'\n",
    "Last_Name = 'Rasti'"
   ]
  },
  {
   "cell_type": "markdown",
   "metadata": {},
   "source": [
    "# Rules\n",
    "- You are not allowed to add or remove cells. You **must use the provided space to write your code**. If you don't follow this rule, **your Practical Assignment won't be graded**.  \n",
    "\n",
    "- Collaboration and using the internet is allowed, but your code **must be written by yourself**. **Copying code** from each other or from available resources will result in a **zero score for the assignment**.\n",
    "\n",
    "- You are not allowed to use `torch.nn`, `torch.optim` and any activation function and loss function implemented in torch. "
   ]
  },
  {
   "cell_type": "markdown",
   "metadata": {},
   "source": [
    "## Question 1) Convolutional Neural Networks ``(50 pt.)``\n",
    "\n",
    "In this question, you'll be coding up a convolutional neural network from scratch to classify images using PyTorch.  \n",
    "\n",
    "### Instructions\n",
    "- Install PyTorch following the instructions [here](https://pytorch.org/).\n",
    "- Install the [`torchinfo` package](https://github.com/TylerYep/torchinfo) to visualize the network architecture and the number of parameters. The maximum number of parameters you are allowed to use for your network is **100,000**. \n",
    "- You are required to complete the functions defined in the code blocks following each question. Fill out sections of the code marked `\"YOUR CODE HERE\"`.\n",
    "- You're free to add any number of methods within each class.\n",
    "- You may also add any number of additional code blocks that you deem necessary."
   ]
  },
  {
   "cell_type": "markdown",
   "metadata": {},
   "source": [
    "### Data Preparation\n",
    "In this assignment, we will use the Fashion-MNIST dataset. Fashion-MNIST is a dataset of Zalando's article images—consisting of a training set of 60,000 examples and a test set of 10,000 examples. Each example is a 28x28 grayscale image, associated with a label from 10 classes.  \n",
    "\n",
    "#### Data\n",
    "\n",
    "Each image is 28 pixels in height and 28 pixels in width, for a total of 784 pixels in total. Each pixel has a single pixel-value associated with it, indicating the lightness or darkness of that pixel, with higher numbers meaning darker. This pixel-value is an integer between 0 and 255.  \n",
    "\n",
    "#### Labels\n",
    "\n",
    "Each training and test example is assigned to one of the following labels:\n",
    "\n",
    "| Label | Description |\n",
    "|-------|-------------|\n",
    "| 0     | T-shirt/top |\n",
    "| 1     | Trouser     |\n",
    "| 2     | Pullover    |\n",
    "| 3     | Dress       |\n",
    "| 4     | Coat        |\n",
    "| 5     | Sandal      |\n",
    "| 6     | Shirt       |\n",
    "| 7     | Sneaker     |\n",
    "| 8     | Bag         |\n",
    "| 9     | Ankle boot  |\n",
    "\n",
    "Fashion-MNIST is included in the `torchvision` library."
   ]
  },
  {
   "cell_type": "code",
   "execution_count": 2,
   "metadata": {},
   "outputs": [
    {
     "name": "stderr",
     "output_type": "stream",
     "text": [
      "d:\\Apps\\Anaconda\\Lib\\site-packages\\torchvision\\io\\image.py:13: UserWarning: Failed to load image Python extension: '[WinError 127] The specified procedure could not be found'If you don't plan on using image functionality from `torchvision.io`, you can ignore this warning. Otherwise, there might be something wrong with your environment. Did you have `libjpeg` or `libpng` installed before building `torchvision` from source?\n",
      "  warn(\n"
     ]
    }
   ],
   "source": [
    "# Import required packages\n",
    "from torchvision.datasets import FashionMNIST\n",
    "from torchvision.transforms import Compose, ToTensor, Normalize\n",
    "import matplotlib.pyplot as plt"
   ]
  },
  {
   "cell_type": "code",
   "execution_count": 3,
   "metadata": {},
   "outputs": [
    {
     "name": "stdout",
     "output_type": "stream",
     "text": [
      "Downloading http://fashion-mnist.s3-website.eu-central-1.amazonaws.com/train-images-idx3-ubyte.gz\n",
      "Downloading http://fashion-mnist.s3-website.eu-central-1.amazonaws.com/train-images-idx3-ubyte.gz to MNIST_data/FashionMNIST\\raw\\train-images-idx3-ubyte.gz\n"
     ]
    },
    {
     "name": "stderr",
     "output_type": "stream",
     "text": [
      "100%|██████████| 26421880/26421880 [00:37<00:00, 708039.93it/s] \n"
     ]
    },
    {
     "name": "stdout",
     "output_type": "stream",
     "text": [
      "Extracting MNIST_data/FashionMNIST\\raw\\train-images-idx3-ubyte.gz to MNIST_data/FashionMNIST\\raw\n",
      "\n",
      "Downloading http://fashion-mnist.s3-website.eu-central-1.amazonaws.com/train-labels-idx1-ubyte.gz\n",
      "Downloading http://fashion-mnist.s3-website.eu-central-1.amazonaws.com/train-labels-idx1-ubyte.gz to MNIST_data/FashionMNIST\\raw\\train-labels-idx1-ubyte.gz\n"
     ]
    },
    {
     "name": "stderr",
     "output_type": "stream",
     "text": [
      "100%|██████████| 29515/29515 [00:00<00:00, 330477.48it/s]\n"
     ]
    },
    {
     "name": "stdout",
     "output_type": "stream",
     "text": [
      "Extracting MNIST_data/FashionMNIST\\raw\\train-labels-idx1-ubyte.gz to MNIST_data/FashionMNIST\\raw\n",
      "\n",
      "Downloading http://fashion-mnist.s3-website.eu-central-1.amazonaws.com/t10k-images-idx3-ubyte.gz\n",
      "Downloading http://fashion-mnist.s3-website.eu-central-1.amazonaws.com/t10k-images-idx3-ubyte.gz to MNIST_data/FashionMNIST\\raw\\t10k-images-idx3-ubyte.gz\n"
     ]
    },
    {
     "name": "stderr",
     "output_type": "stream",
     "text": [
      "100%|██████████| 4422102/4422102 [00:02<00:00, 1662662.03it/s]\n"
     ]
    },
    {
     "name": "stdout",
     "output_type": "stream",
     "text": [
      "Extracting MNIST_data/FashionMNIST\\raw\\t10k-images-idx3-ubyte.gz to MNIST_data/FashionMNIST\\raw\n",
      "\n",
      "Downloading http://fashion-mnist.s3-website.eu-central-1.amazonaws.com/t10k-labels-idx1-ubyte.gz\n",
      "Downloading http://fashion-mnist.s3-website.eu-central-1.amazonaws.com/t10k-labels-idx1-ubyte.gz to MNIST_data/FashionMNIST\\raw\\t10k-labels-idx1-ubyte.gz\n"
     ]
    },
    {
     "name": "stderr",
     "output_type": "stream",
     "text": [
      "100%|██████████| 5148/5148 [00:00<?, ?it/s]"
     ]
    },
    {
     "name": "stdout",
     "output_type": "stream",
     "text": [
      "Extracting MNIST_data/FashionMNIST\\raw\\t10k-labels-idx1-ubyte.gz to MNIST_data/FashionMNIST\\raw\n",
      "\n"
     ]
    },
    {
     "name": "stderr",
     "output_type": "stream",
     "text": [
      "\n"
     ]
    }
   ],
   "source": [
    "# Transform to normalize the data and convert to a tensor\n",
    "transform = Compose([ToTensor(), Normalize((0.5,), (0.5,))])\n",
    "\n",
    "# Download the data\n",
    "dataset = FashionMNIST('MNIST_data/', download = True, train = True, transform = transform)"
   ]
  },
  {
   "cell_type": "markdown",
   "metadata": {},
   "source": [
    "### Data Exploration\n",
    "Let's take a look at the classes in our dataset."
   ]
  },
  {
   "cell_type": "code",
   "execution_count": 4,
   "metadata": {},
   "outputs": [
    {
     "name": "stdout",
     "output_type": "stream",
     "text": [
      "['T-shirt/top', 'Trouser', 'Pullover', 'Dress', 'Coat', 'Sandal', 'Shirt', 'Sneaker', 'Bag', 'Ankle boot']\n"
     ]
    }
   ],
   "source": [
    "print(dataset.classes)"
   ]
  },
  {
   "cell_type": "markdown",
   "metadata": {},
   "source": [
    "Now, visualize an instance from each class."
   ]
  },
  {
   "cell_type": "code",
   "execution_count": 6,
   "metadata": {},
   "outputs": [
    {
     "data": {
      "image/png": "[encoded data removed]",
      "text/plain": [
       "<Figure size 1500x1500 with 10 Axes>"
      ]
     },
     "metadata": {},
     "output_type": "display_data"
    }
   ],
   "source": [
    "import matplotlib.pyplot as plt\n",
    "\n",
    "# Define the class names for the FashionMNIST dataset\n",
    "class_names = [\n",
    "    'T-shirt/top', 'Trouser', 'Pullover', 'Dress', 'Coat', \n",
    "    'Sandal', 'Shirt', 'Sneaker', 'Bag', 'Ankle boot'\n",
    "]\n",
    "\n",
    "# Function to visualize an instance from each class\n",
    "def visualize_classes(dataset, class_names):\n",
    "    # Dictionary to store the first instance of each class\n",
    "    class_instances = {class_name: None for class_name in class_names}\n",
    "    cnt = 0\n",
    "    # Iterate through the dataset to find one instance per class\n",
    "    for image, label in dataset:\n",
    "        class_name = class_names[label]\n",
    "        if class_instances[class_name] is None:\n",
    "            class_instances[class_name] = image\n",
    "            cnt +=1\n",
    "        # Break if we have found an instance for each class\n",
    "        if cnt == len(class_names):\n",
    "            break\n",
    "\n",
    "    # Plot each class instance\n",
    "    fig, axes = plt.subplots(1, len(class_names), figsize=(15, 15))\n",
    "    for idx, (class_name, image) in enumerate(class_instances.items()):\n",
    "        axes[idx].imshow(image.squeeze(), cmap='gray')\n",
    "        axes[idx].set_title(class_name)\n",
    "        axes[idx].axis('off')\n",
    "\n",
    "    plt.show()\n",
    "\n",
    "# Visualize instances from each class\n",
    "visualize_classes(dataset, class_names)\n"
   ]
  },
  {
   "cell_type": "markdown",
   "metadata": {},
   "source": [
    "### Creating Training and Validation Datasets\n",
    "\n",
    "The `split_indices` function takes in the size of the entire dataset, `n`, the fraction of data to be used as validation set, `val_frac`, and the random seed and returns the indices of the data points to be added to the validation dataset. "
   ]
  },
  {
   "cell_type": "code",
   "execution_count": 8,
   "metadata": {},
   "outputs": [],
   "source": [
    "def split_indices(n, val_frac, seed):\n",
    "    # Determine the size of the validation set\n",
    "    n_val = int(val_frac * n)\n",
    "    np.random.seed(seed)\n",
    "    # Create random permutation between 0 to n-1\n",
    "    idxs = np.random.permutation(n)\n",
    "    # Pick first n_val indices for validation set\n",
    "    return idxs[n_val:], idxs[:n_val]"
   ]
  },
  {
   "cell_type": "code",
   "execution_count": 10,
   "metadata": {},
   "outputs": [
    {
     "name": "stdout",
     "output_type": "stream",
     "text": [
      "number of samples in training set: 48000\n",
      "number of samples in validation set: 12000\n"
     ]
    }
   ],
   "source": [
    "######################\n",
    "#   YOUR CODE HERE   #\n",
    "######################\n",
    "import numpy as np\n",
    "val_frac =  0.2\n",
    "rand_seed =  74\n",
    "\n",
    "train_indices, val_indices = split_indices(len(dataset), val_frac, rand_seed)\n",
    "print(\"number of samples in training set: {}\".format(len(train_indices)))\n",
    "print(\"number of samples in validation set: {}\".format(len(val_indices)))"
   ]
  },
  {
   "cell_type": "markdown",
   "metadata": {},
   "source": [
    "Next, we make use of the built-in dataloaders in PyTorch to create iterables of our our training and validation sets. This helps in avoiding fitting the whole dataset into memory and only loads a batch of the data that we can decide. "
   ]
  },
  {
   "cell_type": "code",
   "execution_count": 11,
   "metadata": {},
   "outputs": [],
   "source": [
    "# Import required packages\n",
    "from torch.utils.data.sampler import SubsetRandomSampler\n",
    "from torch.utils.data.dataloader import DataLoader"
   ]
  },
  {
   "cell_type": "code",
   "execution_count": 12,
   "metadata": {},
   "outputs": [],
   "source": [
    "######################\n",
    "#   YOUR CODE HERE   #\n",
    "######################\n",
    "batch_size = 64\n",
    "\n",
    "# Training sampler and data loader\n",
    "train_sampler = SubsetRandomSampler(train_indices)\n",
    "train_dl = DataLoader(dataset,\n",
    "                     batch_size,\n",
    "                     sampler=train_sampler)\n",
    "\n",
    "# Validation sampler and data loader\n",
    "val_sampler = SubsetRandomSampler(val_indices)\n",
    "val_dl = DataLoader(dataset,\n",
    "                   batch_size,\n",
    "                   sampler=val_sampler)"
   ]
  },
  {
   "cell_type": "markdown",
   "metadata": {},
   "source": [
    "Plot images in a sample batch of data."
   ]
  },
  {
   "cell_type": "code",
   "execution_count": 13,
   "metadata": {},
   "outputs": [
    {
     "name": "stdout",
     "output_type": "stream",
     "text": [
      "Sample batch of training data:\n"
     ]
    },
    {
     "data": {
      "image/png": "[encoded data removed]",
      "text/plain": [
       "<Figure size 1500x700 with 8 Axes>"
      ]
     },
     "metadata": {},
     "output_type": "display_data"
    },
    {
     "name": "stdout",
     "output_type": "stream",
     "text": [
      "Sample batch of validation data:\n"
     ]
    },
    {
     "data": {
      "image/png": "[encoded data removed]",
      "text/plain": [
       "<Figure size 1500x700 with 8 Axes>"
      ]
     },
     "metadata": {},
     "output_type": "display_data"
    }
   ],
   "source": [
    "######################\n",
    "#   YOUR CODE HERE   #\n",
    "######################\n",
    "def plot_images(dl):\n",
    "    # Get a batch of data\n",
    "    batch = next(iter(dl))\n",
    "    images, labels = batch\n",
    "\n",
    "    # Plot images\n",
    "    fig, axes = plt.subplots(figsize=(15, 7), ncols=8)\n",
    "    for i in range(8):\n",
    "        axes[i].imshow(images[i].squeeze(), cmap='gray')\n",
    "        axes[i].set_title(class_names[labels[i]])\n",
    "        axes[i].axis('off')\n",
    "    plt.show()\n",
    "\n",
    "# Plot images in a sample batch of training data\n",
    "print(\"Sample batch of training data:\")\n",
    "plot_images(train_dl)\n",
    "\n",
    "# Plot images in a sample batch of validation data\n",
    "print(\"Sample batch of validation data:\")\n",
    "plot_images(val_dl)"
   ]
  },
  {
   "cell_type": "markdown",
   "metadata": {},
   "source": [
    "### Building the Model\n",
    "Create your model by defining the network architecture in the `ImageClassifierNet` class.<br>\n",
    "**NOTE:** The number of parameters in your network must be $\\leq$ 100,000."
   ]
  },
  {
   "cell_type": "code",
   "execution_count": 14,
   "metadata": {},
   "outputs": [],
   "source": [
    "# Import required packages\n",
    "import torch.nn as nn\n",
    "import torch.nn.functional as F\n",
    "from torchinfo import summary"
   ]
  },
  {
   "cell_type": "code",
   "execution_count": 25,
   "metadata": {},
   "outputs": [],
   "source": [
    "class ImageClassifierNet(nn.Module):\n",
    "    def __init__(self, n_channels=1):\n",
    "        super(ImageClassifierNet, self).__init__()\n",
    "        \n",
    "        # Define convolutional layers\n",
    "        self.conv1 = nn.Conv2d(n_channels, 8, kernel_size=3, stride=1, padding=1)\n",
    "        self.conv2 = nn.Conv2d(8, 16, kernel_size=3, stride=1, padding=1)\n",
    "        \n",
    "        # Define fully connected layers\n",
    "        self.fc1 = nn.Linear(16 * 7 * 7, 64)\n",
    "        self.fc2 = nn.Linear(64, 10)  # 10 classes in FashionMNIST\n",
    "        \n",
    "        # Initialize weights\n",
    "        self._initialize_weights()\n",
    "        \n",
    "    def _initialize_weights(self):\n",
    "        for m in self.modules():\n",
    "            if isinstance(m, nn.Conv2d) or isinstance(m, nn.Linear):\n",
    "                nn.init.kaiming_uniform_(m.weight)\n",
    "                if m.bias is not None:\n",
    "                    nn.init.zeros_(m.bias)\n",
    "        \n",
    "    def forward(self, X):\n",
    "        # Apply convolutional layers with ReLU activation and max pooling\n",
    "        X = F.relu(self.conv1(X))\n",
    "        X = F.max_pool2d(X, kernel_size=2, stride=2)\n",
    "        X = F.relu(self.conv2(X))\n",
    "        X = F.max_pool2d(X, kernel_size=2, stride=2)\n",
    "        \n",
    "        # Flatten the tensor for fully connected layers\n",
    "        X = X.view(-1, 16 * 7 * 7)\n",
    "        \n",
    "        # Apply fully connected layers with ReLU activation\n",
    "        X = F.relu(self.fc1(X))\n",
    "        X = self.fc2(X)\n",
    "        \n",
    "        return X"
   ]
  },
  {
   "cell_type": "code",
   "execution_count": 26,
   "metadata": {},
   "outputs": [],
   "source": [
    "model = ImageClassifierNet()"
   ]
  },
  {
   "cell_type": "markdown",
   "metadata": {},
   "source": [
    "The following code block prints your network architecture. It also shows the total number of parameters in your network (see `Total params`).  \n",
    "\n",
    "**NOTE: The total number of parameters in your model should be <= 100,000.**"
   ]
  },
  {
   "cell_type": "code",
   "execution_count": 27,
   "metadata": {},
   "outputs": [
    {
     "data": {
      "text/plain": [
       "==========================================================================================\n",
       "Layer (type:depth-idx)                   Output Shape              Param #\n",
       "==========================================================================================\n",
       "ImageClassifierNet                       [64, 10]                  --\n",
       "├─Conv2d: 1-1                            [64, 8, 28, 28]           80\n",
       "├─Conv2d: 1-2                            [64, 16, 14, 14]          1,168\n",
       "├─Linear: 1-3                            [64, 64]                  50,240\n",
       "├─Linear: 1-4                            [64, 10]                  650\n",
       "==========================================================================================\n",
       "Total params: 52,138\n",
       "Trainable params: 52,138\n",
       "Non-trainable params: 0\n",
       "Total mult-adds (Units.MEGABYTES): 21.92\n",
       "==========================================================================================\n",
       "Input size (MB): 0.20\n",
       "Forward/backward pass size (MB): 4.85\n",
       "Params size (MB): 0.21\n",
       "Estimated Total Size (MB): 5.26\n",
       "=========================================================================================="
      ]
     },
     "execution_count": 27,
     "metadata": {},
     "output_type": "execute_result"
    }
   ],
   "source": [
    "summary(model, input_size=(batch_size, 1, 28, 28))"
   ]
  },
  {
   "cell_type": "markdown",
   "metadata": {},
   "source": [
    "### Train the model\n",
    "Complete the `train_model` function to train your model on a dataset. Tune your network architecture and hyperparameters on the validation set."
   ]
  },
  {
   "cell_type": "code",
   "execution_count": 51,
   "metadata": {},
   "outputs": [],
   "source": [
    "def train_model(n_epochs, model, train_dl, val_dl, loss_fn, opt_fn, lr):\n",
    "    \"\"\"\n",
    "    Trains the model on a dataset.\n",
    "    \n",
    "    Args:\n",
    "        n_epochs: number of epochs\n",
    "        model: ImageClassifierNet object\n",
    "        train_dl: training dataloader\n",
    "        val_dl: validation dataloader\n",
    "        loss_fn: the loss function\n",
    "        opt_fn: the optimizer\n",
    "        lr: learning rate\n",
    "    \n",
    "    Returns:\n",
    "        The trained model. \n",
    "        A tuple of (model, train_losses, val_losses, train_accuracies, val_accuracies)\n",
    "    \"\"\"\n",
    "    # Initialize optimizer\n",
    "    optimizer = opt_fn(model.parameters(), lr=lr)\n",
    "    \n",
    "    # Move model to the appropriate device\n",
    "    device = torch.device(\"cuda\" if torch.cuda.is_available() else \"cpu\")\n",
    "    model.to(device)\n",
    "    \n",
    "    # Record these values at the end of each epoch\n",
    "    train_losses, val_losses, train_accuracies, val_accuracies = [], [], [], []\n",
    "    \n",
    "    # Training loop\n",
    "    for epoch in range(n_epochs):\n",
    "        model.train()  # Set model to training mode\n",
    "        train_loss, correct, total = 0, 0, 0\n",
    "        \n",
    "        for images, labels in train_dl:\n",
    "            # Move data to the appropriate device\n",
    "            images, labels = images.to(device), labels.to(device)\n",
    "            \n",
    "            optimizer.zero_grad()  # Clear gradients\n",
    "            \n",
    "            # Forward pass\n",
    "            outputs = model(images)\n",
    "            loss = loss_fn(outputs, labels)\n",
    "            \n",
    "            # Backward pass and optimization\n",
    "            loss.backward()\n",
    "            optimizer.step()\n",
    "            \n",
    "            # Record training loss\n",
    "            train_loss += loss.item()\n",
    "            _, predicted = torch.max(outputs.data, 1)\n",
    "            total += labels.size(0)\n",
    "            correct += (predicted == labels).sum().item()\n",
    "        \n",
    "        train_losses.append(train_loss / len(train_dl))\n",
    "        train_accuracies.append(100 * correct / total)\n",
    "        \n",
    "        # Validation loop\n",
    "        model.eval()  # Set model to evaluation mode\n",
    "        val_loss, correct, total = 0, 0, 0\n",
    "        \n",
    "        with torch.no_grad():\n",
    "            for images, labels in val_dl:\n",
    "                # Move data to the appropriate device\n",
    "                images, labels = images.to(device), labels.to(device)\n",
    "                \n",
    "                outputs = model(images)\n",
    "                loss = loss_fn(outputs, labels)\n",
    "                val_loss += loss.item()\n",
    "                _, predicted = torch.max(outputs.data, 1)\n",
    "                total += labels.size(0)\n",
    "                correct += (predicted == labels).sum().item()\n",
    "        if len(val_dl) != 0 :\n",
    "            val_losses.append(val_loss / len(val_dl))\n",
    "            val_accuracies.append(100 * correct / total)\n",
    "            print(f'Epoch {epoch + 1}/{n_epochs}, '\n",
    "                f'Train Loss: {train_loss / len(train_dl):.4f}, '\n",
    "                f'Train Acc: {train_accuracies[-1]:.2f}%, '\n",
    "                f'Val Loss: {val_loss / len(val_dl):.4f}, '\n",
    "                f'Val Acc: {val_accuracies[-1]:.2f}%')\n",
    "        else :\n",
    "            print(f'Epoch {epoch + 1}/{n_epochs}, '\n",
    "                f'Train Loss: {train_loss / len(train_dl):.4f}, '\n",
    "                f'Train Acc: {train_accuracies[-1]:.2f}%, ')\n",
    "        \n",
    "\n",
    "    return model, train_losses, val_losses, train_accuracies, val_accuracies"
   ]
  },
  {
   "cell_type": "code",
   "execution_count": 38,
   "metadata": {},
   "outputs": [],
   "source": [
    "######################\n",
    "#   YOUR CODE HERE   #\n",
    "######################\n",
    "import torch\n",
    "import torch.optim as optim\n",
    "num_epochs = 10  # Number of training epochs\n",
    "loss_fn = torch.nn.CrossEntropyLoss()  # Define the loss function\n",
    "opt_fn = optim.SGD  # Select an optimizer (Stochastic Gradient Descent)\n",
    "lr = 0.01  # Set the learning rate"
   ]
  },
  {
   "cell_type": "code",
   "execution_count": 39,
   "metadata": {},
   "outputs": [
    {
     "name": "stdout",
     "output_type": "stream",
     "text": [
      "Epoch 1/10, Train Loss: 0.4418, Train Acc: 84.09%, Val Loss: 0.3789, Val Acc: 86.70%\n",
      "Epoch 2/10, Train Loss: 0.3975, Train Acc: 85.68%, Val Loss: 0.3811, Val Acc: 86.12%\n",
      "Epoch 3/10, Train Loss: 0.3678, Train Acc: 86.67%, Val Loss: 0.3328, Val Acc: 88.15%\n",
      "Epoch 4/10, Train Loss: 0.3481, Train Acc: 87.47%, Val Loss: 0.3374, Val Acc: 87.59%\n",
      "Epoch 5/10, Train Loss: 0.3354, Train Acc: 87.96%, Val Loss: 0.3111, Val Acc: 88.70%\n",
      "Epoch 6/10, Train Loss: 0.3210, Train Acc: 88.47%, Val Loss: 0.3106, Val Acc: 88.83%\n",
      "Epoch 7/10, Train Loss: 0.3122, Train Acc: 88.75%, Val Loss: 0.3106, Val Acc: 88.87%\n",
      "Epoch 8/10, Train Loss: 0.3022, Train Acc: 89.17%, Val Loss: 0.2916, Val Acc: 89.28%\n",
      "Epoch 9/10, Train Loss: 0.2949, Train Acc: 89.34%, Val Loss: 0.2953, Val Acc: 89.38%\n",
      "Epoch 10/10, Train Loss: 0.2863, Train Acc: 89.72%, Val Loss: 0.2841, Val Acc: 89.69%\n"
     ]
    }
   ],
   "source": [
    "model, train_losses, val_losses, train_accuracies, val_accuracies = train_model(num_epochs, model, train_dl, val_dl, loss_fn, opt_fn, lr)"
   ]
  },
  {
   "cell_type": "markdown",
   "metadata": {},
   "source": [
    "### Plot loss and accuracy"
   ]
  },
  {
   "cell_type": "code",
   "execution_count": 40,
   "metadata": {},
   "outputs": [],
   "source": [
    "def plot_accuracy(train_accuracies, val_accuracies):\n",
    "    \"\"\"Plot accuracies\"\"\"\n",
    "    plt.plot(train_accuracies, \"-x\")\n",
    "    plt.plot(val_accuracies, \"-o\")\n",
    "    plt.xlabel(\"Epoch\")\n",
    "    plt.ylabel(\"Accuracy\")\n",
    "    plt.legend([\"Training\", \"Validation\"])\n",
    "    plt.title(\"Accuracy vs. No. of epochs\")\n",
    "\n",
    "def plot_losses(train_losses, val_losses):\n",
    "    \"\"\"Plot losses\"\"\"\n",
    "    plt.plot(train_losses, \"-x\")\n",
    "    plt.plot(val_losses, \"-o\")\n",
    "    plt.xlabel(\"Epoch\")\n",
    "    plt.ylabel(\"Loss\")\n",
    "    plt.legend([\"Training\", \"Validation\"])\n",
    "    plt.title(\"Loss vs. No. of Epochs\")"
   ]
  },
  {
   "cell_type": "code",
   "execution_count": 42,
   "metadata": {},
   "outputs": [
    {
     "data": {
      "image/png": "[encoded data removed]",
      "text/plain": [
       "<Figure size 640x480 with 1 Axes>"
      ]
     },
     "metadata": {},
     "output_type": "display_data"
    }
   ],
   "source": [
    "plot_accuracy(train_accuracies, val_accuracies)\n",
    "plot_losses(train_losses, val_losses)"
   ]
  },
  {
   "cell_type": "markdown",
   "metadata": {},
   "source": [
    "### Train a model on the entire dataset"
   ]
  },
  {
   "cell_type": "code",
   "execution_count": 43,
   "metadata": {},
   "outputs": [],
   "source": [
    "indices, _ = split_indices(len(dataset), 0, rand_seed)\n",
    "\n",
    "sampler = SubsetRandomSampler(indices)\n",
    "dl = DataLoader(dataset, batch_size, sampler=sampler)"
   ]
  },
  {
   "cell_type": "code",
   "execution_count": 44,
   "metadata": {},
   "outputs": [],
   "source": [
    "######################\n",
    "#   YOUR CODE HERE   #\n",
    "######################\n",
    "num_epochs = 10  # Max number of training epochs\n",
    "lr = 0.01  # Set the learning rate"
   ]
  },
  {
   "cell_type": "code",
   "execution_count": 52,
   "metadata": {},
   "outputs": [
    {
     "name": "stdout",
     "output_type": "stream",
     "text": [
      "Epoch 1/10, Train Loss: 0.2608, Train Acc: 90.58%, \n",
      "Epoch 2/10, Train Loss: 0.2546, Train Acc: 90.75%, \n",
      "Epoch 3/10, Train Loss: 0.2502, Train Acc: 90.87%, \n",
      "Epoch 4/10, Train Loss: 0.2455, Train Acc: 91.12%, \n",
      "Epoch 5/10, Train Loss: 0.2403, Train Acc: 91.25%, \n",
      "Epoch 6/10, Train Loss: 0.2372, Train Acc: 91.45%, \n",
      "Epoch 7/10, Train Loss: 0.2328, Train Acc: 91.49%, \n",
      "Epoch 8/10, Train Loss: 0.2290, Train Acc: 91.60%, \n",
      "Epoch 9/10, Train Loss: 0.2257, Train Acc: 91.83%, \n",
      "Epoch 10/10, Train Loss: 0.2220, Train Acc: 91.92%, \n"
     ]
    }
   ],
   "source": [
    "model, _, _, _, _ = train_model(num_epochs, model, dl, [], loss_fn, opt_fn, lr)"
   ]
  },
  {
   "cell_type": "markdown",
   "metadata": {},
   "source": [
    "### Check Predictions\n",
    "Now, you should evaluate your model on dataset. Specifically, you should calculate the class probabilities for each image, and then visualize these probabilities along with the image itself. Please include a function `view_prediction` in your code that takes an image, its label, the calculated probabilities, and the list of class names as input, and plots the image along with the probabilities."
   ]
  },
  {
   "cell_type": "code",
   "execution_count": 53,
   "metadata": {},
   "outputs": [],
   "source": [
    "######################\n",
    "#   YOUR CODE HERE   #\n",
    "######################\n",
    "def view_prediction(image, true_label, pred_probs, class_names):\n",
    "    \"\"\"\n",
    "    Visualizes the image along with predicted class probabilities.\n",
    "    \n",
    "    Args:\n",
    "        image (Tensor): Input image tensor.\n",
    "        true_label (int): True label of the image.\n",
    "        pred_probs (Tensor): Predicted probabilities of each class.\n",
    "        class_names (list): List of class names.\n",
    "    \"\"\"\n",
    "    # Convert tensors to numpy arrays\n",
    "    image = image.squeeze().cpu().numpy()  # Assuming image is on CPU and in tensor format\n",
    "    pred_probs = pred_probs.squeeze().cpu().numpy()  # Convert predicted probabilities to numpy array\n",
    "    \n",
    "    # Create a figure\n",
    "    plt.figure(figsize=(8, 4))\n",
    "    \n",
    "    # Plot the image\n",
    "    plt.subplot(1, 2, 1)\n",
    "    plt.imshow(image, cmap='gray')\n",
    "    plt.axis('off')\n",
    "    plt.title(f'True Label: {class_names[true_label]}')\n",
    "    \n",
    "    # Plot predicted probabilities\n",
    "    plt.subplot(1, 2, 2)\n",
    "    plt.barh(np.arange(len(class_names)), pred_probs, alpha=0.8)\n",
    "    plt.yticks(np.arange(len(class_names)), class_names)\n",
    "    plt.xlabel('Probability')\n",
    "    plt.title('Class Probabilities')\n",
    "    plt.gca().invert_yaxis()  # Invert y-axis to match image plot\n",
    "    \n",
    "    plt.tight_layout()\n",
    "    plt.show()\n"
   ]
  },
  {
   "cell_type": "markdown",
   "metadata": {},
   "source": [
    "### Save the model"
   ]
  },
  {
   "cell_type": "code",
   "execution_count": 54,
   "metadata": {},
   "outputs": [],
   "source": [
    "torch.save(model, 'model')"
   ]
  },
  {
   "cell_type": "markdown",
   "metadata": {},
   "source": [
    "### Calculate accuracy on the test set"
   ]
  },
  {
   "cell_type": "code",
   "execution_count": 55,
   "metadata": {},
   "outputs": [],
   "source": [
    "test_dataset = FashionMNIST('MNIST_data/', download = True, train = False, transform = transform)\n",
    "test_dl = DataLoader(test_dataset, batch_size)"
   ]
  },
  {
   "cell_type": "code",
   "execution_count": 58,
   "metadata": {},
   "outputs": [],
   "source": [
    "def evaluate(model, test_dl):\n",
    "    \"\"\"\n",
    "    Evaluates your model on the test data.\n",
    "    \n",
    "    Args:\n",
    "        model: ImageClassifierNet object\n",
    "        test_dl: test dataloader\n",
    "    \n",
    "    Returns: \n",
    "        Test accuracy.\n",
    "    \"\"\"\n",
    "    model.eval()  # Set model to evaluation mode\n",
    "    correct = 0\n",
    "    total = 0\n",
    "    device = torch.device(\"cuda\" if torch.cuda.is_available() else \"cpu\")\n",
    "    with torch.no_grad():\n",
    "        for images, labels in test_dl:\n",
    "            # Move data to the appropriate device\n",
    "            images, labels = images.to(device), labels.to(device)  # Assuming device is defined globally\n",
    "            \n",
    "            # Forward pass\n",
    "            outputs = model(images)\n",
    "            \n",
    "            # Get predicted labels\n",
    "            _, predicted = torch.max(outputs.data, 1)\n",
    "            \n",
    "            # Total number of labels\n",
    "            total += labels.size(0)\n",
    "            \n",
    "            # Total correct predictions\n",
    "            correct += (predicted == labels).sum().item()\n",
    "    \n",
    "    # Calculate accuracy\n",
    "    accuracy = correct / total\n",
    "    return accuracy\n"
   ]
  },
  {
   "cell_type": "code",
   "execution_count": 59,
   "metadata": {},
   "outputs": [
    {
     "name": "stdout",
     "output_type": "stream",
     "text": [
      "Test Accuracy = 0.8952\n"
     ]
    }
   ],
   "source": [
    "print(\"Test Accuracy = {:.4f}\".format(evaluate(model, test_dl)))"
   ]
  }
 ],
 "metadata": {
  "kernelspec": {
   "display_name": "Python 3",
   "language": "python",
   "name": "python3"
  },
  "language_info": {
   "codemirror_mode": {
    "name": "ipython",
    "version": 3
   },
   "file_extension": ".py",
   "mimetype": "text/x-python",
   "name": "python",
   "nbconvert_exporter": "python",
   "pygments_lexer": "ipython3",
   "version": "3.11.5"
  }
 },
 "nbformat": 4,
 "nbformat_minor": 2
}
